{
 "cells": [
  {
   "cell_type": "code",
   "execution_count": 1,
   "metadata": {
    "scrolled": true
   },
   "outputs": [
    {
     "name": "stderr",
     "output_type": "stream",
     "text": [
      "Cache entry deserialization failed, entry ignored\n",
      "Cache entry deserialization failed, entry ignored\n",
      "Cache entry deserialization failed, entry ignored\n",
      "Cache entry deserialization failed, entry ignored\n",
      "Cache entry deserialization failed, entry ignored\n",
      "Cache entry deserialization failed, entry ignored\n",
      "Cache entry deserialization failed, entry ignored\n",
      "Cache entry deserialization failed, entry ignored\n",
      "Cache entry deserialization failed, entry ignored\n",
      "Cache entry deserialization failed, entry ignored\n",
      "Cache entry deserialization failed, entry ignored\n",
      "Cache entry deserialization failed, entry ignored\n",
      "Cache entry deserialization failed, entry ignored\n",
      "Cache entry deserialization failed, entry ignored\n",
      "Cache entry deserialization failed, entry ignored\n",
      "Cache entry deserialization failed, entry ignored\n",
      "Cache entry deserialization failed, entry ignored\n",
      "Cache entry deserialization failed, entry ignored\n"
     ]
    },
    {
     "name": "stdout",
     "output_type": "stream",
     "text": [
      "\n",
      "\n",
      "\n",
      "\n",
      "################################################################################\n",
      "# CRAWLER RECOMMENDATIONS BASED ON URLS ENCOUNTERED:\n",
      "################################################################################\n",
      "\n",
      "1. These URLs are very common and look like global navigation links:\n",
      "  -  https://learningequality.org/\n",
      "  -  https://learningequality.org/about/\n",
      "  -  https://learningequality.org/about/values/\n",
      "  -  https://learningequality.org/about/team/\n",
      "  -  https://learningequality.org/about/board/\n",
      "  -  https://learningequality.org/about/supporters/\n",
      "  -  https://learningequality.org/about/press/\n",
      "  -  https://learningequality.org/about/jobs/\n",
      "  -  https://learningequality.org/kolibri/\n",
      "  -  https://learningequality.org/hardware_grant/\n",
      "  -  https://learningequality.org/translate/\n",
      "  -  https://learningequality.org/ka-lite/map/add/\n",
      "\n",
      "2. These are common path fragments found in URLs paths, so could correspond to site struture:\n",
      "  -  15 urls on site start with  /\n",
      "  -  8 urls on site start with  /about\n",
      "  -  4 urls on site start with  /ka-lite\n",
      "  -  2 urls on site start with  /media\n",
      "  -  1 urls on site start with  /download\n",
      "  -  1 urls on site start with  /directions\n",
      "  -  1 urls on site start with  /donate\n",
      "  -  1 urls on site start with  /hardware_grant\n",
      "  -  1 urls on site start with  /translate\n",
      "  -  1 urls on site start with  /documentation\n",
      "\n",
      "\n",
      "################################################################################\n",
      "\n",
      "\n",
      "\n"
     ]
    }
   ],
   "source": [
    "import re\n",
    "from basiccrawler.crawler import BasicCrawler\n",
    "\n",
    "\n",
    "crawler = BasicCrawler(main_source_domain='https://learningequality.org')\n",
    "crawler.IGNORE_URLS.append(re.compile('.*cdn-cgi/l/email-protection.*'))\n",
    "crawler.CRAWLING_STAGE_OUTPUT = 'chefdata/trees/learningequality_web_resource_tree.json'\n",
    "\n",
    "# TODO: implement a \"skip PDFs\" feature, because oterwise initial crawl 20mins+\n",
    "channel_tree = crawler.crawl(limit=10000)"
   ]
  },
  {
   "cell_type": "code",
   "execution_count": 2,
   "metadata": {},
   "outputs": [
    {
     "name": "stdout",
     "output_type": "stream",
     "text": [
      "     -  path: /  (PageWebResource) \n",
      "       children:\n",
      "        -  path: /  (PageWebResource) \n",
      "        -  path: /about/  (PageWebResource) \n",
      "        -  path: /about/values/  (PageWebResource) \n",
      "        -  path: /about/team/  (PageWebResource) \n",
      "        -  path: /about/board/  (PageWebResource) \n",
      "        -  path: /about/supporters/  (PageWebResource) \n",
      "        -  path: /about/press/  (PageWebResource) \n",
      "        -  path: /about/jobs/  (PageWebResource) \n",
      "        -  path: /about/internships/  (PageWebResource) \n",
      "          children:\n",
      "           -  path: /about/jobs/?gh_jid=533166  (PageWebResource) \n",
      "             children counts: {'PageWebResource': 1}\n",
      "           -  path: /directions/  (PageWebResource) \n",
      "        -  path: /kolibri/  (PageWebResource) \n",
      "        -  path: /download/  (PageWebResource) \n",
      "          children:\n",
      "           -  path: https://storage.googleapis.com/le-releases/downloads/kolibri/v0.12.3/kolibri-v0.12.3-windows-setup.exe  (PageWebResource) \n",
      "           -  path: https://storage.googleapis.com/le-releases/downloads/kolibri/v0.12.3/kolibri_0.12.3-0ubuntu1_all.deb  (PageWebResource) \n",
      "           -  path: https://storage.googleapis.com/le-releases/downloads/kolibri/v0.12.3/kolibri-0.12.3.pex  (MediaWebResource) \n",
      "        -  path: /documentation/  (PageWebResource) \n",
      "          children:\n",
      "           -  path: https://drive.google.com/drive/folders/1TNCjAOk24NKZFdK-GYzXSbUhksZ4wu0r?usp=sharing  (PageWebResource) \n",
      "           -  path: https://accounts.google.com/ServiceLogin?service=wise&passive=1209600&continue=https://drive.google.com/file/d/1Pachcc-k7CRRu3koyl-IgKvwzmkZVttN/view?usp%3Dsharing&followup=https://drive.google.com/file/d/1Pachcc-k7CRRu3koyl-IgKvwzmkZVttN/view?usp%3Dsharing  (PageWebResource) \n",
      "        -  path: /hardware_grant/  (PageWebResource) \n",
      "        -  path: /translate/  (PageWebResource) \n",
      "        -  path: https://blog.learningequality.org/?gi=a88742768739  (PageWebResource) \n",
      "        -  path: /ka-lite/map/add/  (PageWebResource) \n",
      "        -  path: /donate/  (PageWebResource) \n",
      "          children:\n",
      "           -  path: /static/doc/learning_equality_irs_determination_letter.pdf  (MediaWebResource) \n",
      "        -  path: /ka-lite/  (PageWebResource) \n",
      "          children:\n",
      "           -  path: https://ka-lite.readthedocs.io/en/latest/installguide/install_main.html  (PageWebResource) \n",
      "           -  path: https://ka-lite.readthedocs.io/en/latest/  (PageWebResource) \n",
      "           -  path: /ka-lite/infographic/  (PageWebResource) \n",
      "        -  path: /ka-lite/map/  (PageWebResource) \n",
      "          children:\n",
      "           -  path: https://blog.learningequality.org/samuel-morris-scholars-program-an-unforgettable-impact-99f28a5faeff  (PageWebResource) \n",
      "           -  path: https://blog.learningequality.org/ka-lite-brings-offline-education-to-idaho-department-of-corrections-90f7a5f1bf4b  (PageWebResource) \n",
      "           -  path: https://blog.learningequality.org/the-sparks-familys-overland-travel-from-alaska-to-argentina-dedde75a145  (PageWebResource) \n",
      "           -  path: https://blog.learningequality.org/inspiring-confidence-a-guest-post-from-edward-j-hills-28719ed03196  (PageWebResource) \n",
      "           -  path: https://blog.learningequality.org/ka-lite-in-typhoon-stricken-mangorocoro-c781aa9c4cb4  (PageWebResource) \n",
      "           -  path: https://blog.learningequality.org/deployment-spotlight-ka-lite-in-rural-guatemala-ec6d991ea802  (PageWebResource) \n",
      "           -  path: https://blog.learningequality.org/bringing-ka-lite-to-gitwe-rwanda-38872419b1ac  (PageWebResource) \n",
      "        -  path: /media/FUNSEPA_Final_Evaluation_Report_27May2016.pdf  (MediaWebResource) \n",
      "        -  path: /media/Rapport-Etude-Cameroun_KL_ENG.pdf  (MediaWebResource) \n"
     ]
    }
   ],
   "source": [
    "crawler.print_tree(channel_tree, print_depth=3)"
   ]
  },
  {
   "cell_type": "code",
   "execution_count": null,
   "metadata": {},
   "outputs": [],
   "source": []
  },
  {
   "cell_type": "code",
   "execution_count": null,
   "metadata": {},
   "outputs": [],
   "source": []
  }
 ],
 "metadata": {
  "kernelspec": {
   "display_name": "Python 3",
   "language": "python",
   "name": "python3"
  },
  "language_info": {
   "codemirror_mode": {
    "name": "ipython",
    "version": 3
   },
   "file_extension": ".py",
   "mimetype": "text/x-python",
   "name": "python",
   "nbconvert_exporter": "python",
   "pygments_lexer": "ipython3",
   "version": "3.6.4"
  }
 },
 "nbformat": 4,
 "nbformat_minor": 2
}
